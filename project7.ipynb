{
 "cells": [
  {
   "cell_type": "markdown",
   "metadata": {},
   "source": [
    "1. Write a Python program to read an entire text file.\n",
    "\n"
   ]
  },
  {
   "cell_type": "code",
   "execution_count": 1,
   "metadata": {},
   "outputs": [
    {
     "name": "stdout",
     "output_type": "stream",
     "text": [
      "What is Python language?                                                \n",
      "Python is a widely used high-level, general-purpose, interpreted, dynamic programming language.Its design philosophy emphasizes code readability, and its syntax allows programmers to express concepts in fewer lines of code than possible in \n",
      "languages such as C++ or Java. \n",
      "Python supports multiple programming paradigms, including object-oriented, imperative and functional programming or procedural styles. It features a dynamic type system and automatic memory management and has a large and comprehensive standard library.The best way we learn anything is by practice and exercise questions. We  have started this section for those (beginner to intermediate) who are familiar with Python."
     ]
    }
   ],
   "source": [
    "f = open(\"python.txt\",'r',encoding = 'utf-8')\n",
    "\n",
    "for line in f:\n",
    "    print(line, end = '')\n",
    "f.close()"
   ]
  },
  {
   "cell_type": "markdown",
   "metadata": {},
   "source": [
    "2. Write a Python program to read the first n lines of a file.\n",
    "\n"
   ]
  },
  {
   "cell_type": "code",
   "execution_count": 2,
   "metadata": {},
   "outputs": [
    {
     "name": "stdout",
     "output_type": "stream",
     "text": [
      "What is Python language?                                                \n",
      "\n",
      "Python is a widely used high-level, general-purpose, interpreted, dynamic programming language.Its design philosophy emphasizes code readability, and its syntax allows programmers to express concepts in fewer lines of code than possible in \n",
      "\n"
     ]
    }
   ],
   "source": [
    "f = open(\"python.txt\",'r',encoding = 'utf-8')\n",
    "\n",
    "file = \"python.txt\"\n",
    "lines = f.readlines()\n",
    "\n",
    "        \n",
    "def get_firstlines(n):\n",
    "    while True:\n",
    "        try:\n",
    "            \n",
    "            n = int(input('enter the number of first n lines : '))\n",
    "        except ValueError :\n",
    "            print(\"you must enter a whole number\")\n",
    "        for i in   lines[:n]:\n",
    "            print(i)\n",
    "        break\n",
    "get_firstlines(f)\n",
    "f.close()"
   ]
  },
  {
   "cell_type": "markdown",
   "metadata": {},
   "source": [
    "3. Write a Python program to read the last n lines of a file.\n"
   ]
  },
  {
   "cell_type": "code",
   "execution_count": 5,
   "metadata": {},
   "outputs": [
    {
     "name": "stdout",
     "output_type": "stream",
     "text": [
      "languages such as C++ or Java. \n",
      "\n",
      "Python supports multiple programming paradigms, including object-oriented, imperative and functional programming or procedural styles. It features a dynamic type system and automatic memory management and has a large and comprehensive standard library.The best way we learn anything is by practice and exercise questions. We  have started this section for those (beginner to intermediate) who are familiar with Python.\n"
     ]
    }
   ],
   "source": [
    "f = open(\"python.txt\",'r',encoding = 'utf-8')\n",
    "\n",
    "file = \"python.txt\"\n",
    "lines = f.readlines()\n",
    "\n",
    "def last_lines(n):\n",
    "    while True:\n",
    "        try:\n",
    "            \n",
    "            n = int(input('enter the number of last n lines : '))\n",
    "        except ValueError :\n",
    "            print(\"you must enter a whole number\")\n",
    "        for i in   lines[n:]:\n",
    "            print(i)\n",
    "        break\n",
    "last_lines(f)\n",
    "f.close()"
   ]
  },
  {
   "cell_type": "markdown",
   "metadata": {},
   "source": [
    "4. Write a Python program that takes a text file as input and returns the number of words of a given text file.\n"
   ]
  },
  {
   "cell_type": "code",
   "execution_count": 4,
   "metadata": {},
   "outputs": [
    {
     "name": "stdout",
     "output_type": "stream",
     "text": [
      "764\n"
     ]
    }
   ],
   "source": [
    "f = open(\"python.txt\",'r',encoding = 'utf-8')\n",
    "\n",
    "file = \"python.txt\"\n",
    "lines = f.readlines()\n",
    "\n",
    "def nb_words(f):\n",
    "    nb_chars = 0\n",
    "    nb_words = 0\n",
    "    for line in lines:\n",
    "            # line processing\n",
    "        for char in line:\n",
    "                # processing of each character\n",
    "                # use of isalnum  Return True if the string is an alpha-numeric string, False otherwise.\n",
    "            if not char.isalnum:\n",
    "                \n",
    "                nb_chars += 1\n",
    "            nb_words += 1\n",
    "    \n",
    "                                 \n",
    "        \n",
    "         \n",
    "    print (nb_words)\n",
    "    \n",
    "nb_words(f)\n",
    "f.close()"
   ]
  }
 ],
 "metadata": {
  "kernelspec": {
   "display_name": "Python 3",
   "language": "python",
   "name": "python3"
  },
  "language_info": {
   "codemirror_mode": {
    "name": "ipython",
    "version": 3
   },
   "file_extension": ".py",
   "mimetype": "text/x-python",
   "name": "python",
   "nbconvert_exporter": "python",
   "pygments_lexer": "ipython3",
   "version": "3.11.4"
  }
 },
 "nbformat": 4,
 "nbformat_minor": 2
}
